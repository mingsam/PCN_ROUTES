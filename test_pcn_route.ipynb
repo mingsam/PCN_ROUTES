{
 "cells": [
  {
   "cell_type": "code",
   "execution_count": 3,
   "metadata": {},
   "outputs": [
    {
     "data": {
      "text/plain": [
       "'/home/wzk/Code/PCN_ROUTES'"
      ]
     },
     "execution_count": 3,
     "metadata": {},
     "output_type": "execute_result"
    }
   ],
   "source": [
    "import pandas as pd\n",
    "import networkx as nx\n",
    "import numpy as np\n",
    "import os\n",
    "from db_con.pcn_oracle_data import PCNDB\n",
    "from tqdm import tqdm\n",
    "os.getcwd()"
   ]
  },
  {
   "cell_type": "code",
   "execution_count": 4,
   "metadata": {},
   "outputs": [
    {
     "ename": "DatabaseError",
     "evalue": "DPI-1047: Cannot locate a 64-bit Oracle Client library: \"libclntsh.so: cannot open shared object file: No such file or directory\". See https://cx-oracle.readthedocs.io/en/latest/user_guide/installation.html for help",
     "output_type": "error",
     "traceback": [
      "\u001b[0;31m---------------------------------------------------------------------------\u001b[0m",
      "\u001b[0;31mDatabaseError\u001b[0m                             Traceback (most recent call last)",
      "\u001b[1;32m/home/wzk/Code/PCN_ROUTES/test_pcn_route.ipynb Cell 2'\u001b[0m in \u001b[0;36m<cell line: 1>\u001b[0;34m()\u001b[0m\n\u001b[0;32m----> <a href='vscode-notebook-cell://ssh-remote%2B7b22686f73744e616d65223a223531312d41494f70732d33303930227d/home/wzk/Code/PCN_ROUTES/test_pcn_route.ipynb#ch0000001vscode-remote?line=0'>1</a>\u001b[0m pcnTestDB \u001b[39m=\u001b[39m PCNDB(\u001b[39m'\u001b[39;49m\u001b[39mPCN_TEST\u001b[39;49m\u001b[39m'\u001b[39;49m,\u001b[39m'\u001b[39;49m\u001b[39m784427618\u001b[39;49m\u001b[39m'\u001b[39;49m, \u001b[39m'\u001b[39;49m\u001b[39m10.112.199.111:1521/LHR11G\u001b[39;49m\u001b[39m'\u001b[39;49m)\n",
      "File \u001b[0;32m~/Code/PCN_ROUTES/db_con/pcn_oracle_data.py:8\u001b[0m, in \u001b[0;36mPCNDB.__init__\u001b[0;34m(self, dbUser, dbPass, dbSID)\u001b[0m\n\u001b[1;32m      <a href='file:///home/wzk/Code/PCN_ROUTES/db_con/pcn_oracle_data.py?line=5'>6</a>\u001b[0m \u001b[39mdef\u001b[39;00m \u001b[39m__init__\u001b[39m(\u001b[39mself\u001b[39m, dbUser, dbPass, dbSID):\n\u001b[1;32m      <a href='file:///home/wzk/Code/PCN_ROUTES/db_con/pcn_oracle_data.py?line=6'>7</a>\u001b[0m     conStr \u001b[39m=\u001b[39m \u001b[39m'\u001b[39m\u001b[39m{}\u001b[39;00m\u001b[39m/\u001b[39m\u001b[39m{}\u001b[39;00m\u001b[39m@\u001b[39m\u001b[39m{}\u001b[39;00m\u001b[39m'\u001b[39m\u001b[39m.\u001b[39mformat(dbUser, dbPass, dbSID)\n\u001b[0;32m----> <a href='file:///home/wzk/Code/PCN_ROUTES/db_con/pcn_oracle_data.py?line=7'>8</a>\u001b[0m     \u001b[39mself\u001b[39m\u001b[39m.\u001b[39mpcnCon \u001b[39m=\u001b[39m cx_Oracle\u001b[39m.\u001b[39;49mconnect(conStr)\n\u001b[1;32m      <a href='file:///home/wzk/Code/PCN_ROUTES/db_con/pcn_oracle_data.py?line=8'>9</a>\u001b[0m     \u001b[39mself\u001b[39m\u001b[39m.\u001b[39mcursor \u001b[39m=\u001b[39m \u001b[39mself\u001b[39m\u001b[39m.\u001b[39mpcnCon\u001b[39m.\u001b[39mcursor()\n",
      "\u001b[0;31mDatabaseError\u001b[0m: DPI-1047: Cannot locate a 64-bit Oracle Client library: \"libclntsh.so: cannot open shared object file: No such file or directory\". See https://cx-oracle.readthedocs.io/en/latest/user_guide/installation.html for help"
     ]
    }
   ],
   "source": [
    "pcnTestDB = PCNDB('PCN_TEST','784427618', '10.112.199.111:1521/LHR11G')"
   ]
  },
  {
   "cell_type": "code",
   "execution_count": 21,
   "metadata": {},
   "outputs": [],
   "source": [
    "bus_inf = pcnTestDB.get_all_businesses()\n",
    "cha_inf = pcnTestDB.get_all_channels()"
   ]
  },
  {
   "cell_type": "code",
   "execution_count": 22,
   "metadata": {},
   "outputs": [],
   "source": [
    "def get_stn_name(stn_id, pcnDB, stnDict):\n",
    "    del_full_name = lambda x:x[0].split('/')[-1] if x[0] != None else None\n",
    "    if stn_id not in stnDict.keys():\n",
    "        stn_dict = pcnDB.get_station_inf(stn_id, tCols=['FULL_NAME'])\n",
    "        stn_name = del_full_name(stn_dict['FULL_NAME']) if stn_dict['FULL_NAME'] != None else None\n",
    "        stnDict[stn_id] = stn_name\n",
    "    else:\n",
    "        stn_name = stnDict[stn_id]\n",
    "    \n",
    "    return stn_name, stnDict\n",
    "\n",
    "\n",
    "def ch_channel_name(channelInf, pcnDB):\n",
    "    assert 'A_STATION' in channelInf.keys() and 'Z_STATION' in channelInf.keys()\n",
    "    stnList_a = channelInf['A_STATION']\n",
    "    stnList_z = channelInf['Z_STATION']\n",
    "\n",
    "    stnList_a_name , stnList_z_name = [], []\n",
    "    resDict = {}\n",
    "\n",
    "    for idx, (s_a, s_z) in enumerate(zip(stnList_a, stnList_z)):\n",
    "        s_a_name, resDict = get_stn_name(s_a, pcnDB, resDict)\n",
    "        s_z_name, resDict = get_stn_name(s_z, pcnDB, resDict)\n",
    "\n",
    "        stnList_a_name.append(s_a_name)\n",
    "        stnList_z_name.append(s_z_name)\n",
    "\n",
    "    channelInf['A_STATION_NAME'] = stnList_a_name\n",
    "    channelInf['Z_STATION_NAME'] = stnList_z_name\n",
    "\n",
    "    return channelInf, resDict\n",
    "\n",
    "\n",
    "def del_channel_inf(channelInf, pcnDB):\n",
    "    channelInf, stnDict = ch_channel_name(channelInf, pcnDB)\n",
    "    stnList_a = channelInf['A_STATION_NAME']\n",
    "    stnList_z = channelInf['Z_STATION_NAME']\n",
    "\n",
    "    assert len(stnList_a) == len(stnList_z)\n",
    "    idx = 0\n",
    "    while idx < len(stnList_a):\n",
    "        s_a = stnList_a[idx]\n",
    "        s_z = stnList_z[idx]\n",
    "        if s_a is None or s_z is None:\n",
    "            for k in channelInf.keys():\n",
    "                channelInf[k].pop(idx)\n",
    "        elif s_a == s_z:\n",
    "            for k in channelInf.keys():\n",
    "                channelInf[k].pop(idx)\n",
    "        else:\n",
    "            idx += 1\n",
    "\n",
    "    return channelInf, stnDict\n",
    "\n",
    "\n",
    "def con_business_inf(b_id, pcnDB, stnDict):\n",
    "    busInfDict = pcnDB.get_business_inf(b_id)\n",
    "    stnID_a, stnID_z = busInfDict['A_SITE_ID'][0], busInfDict['Z_SITE_ID'][0]\n",
    "\n",
    "    stnName_a = get_stn_name(stnID_a, pcnDB, stnDict)\n",
    "    stnName_z = get_stn_name(stnID_z, pcnDB, stnDict)\n",
    "    busInfDict['A_STATION_NAME'] = stnName_a\n",
    "    busInfDict['Z_STATION_NAME'] = stnName_z\n",
    "\n",
    "    return busInfDict\n",
    "\n",
    "\n",
    "def con_business_stn_inf(b_id, pcnDB, stnDict):\n",
    "    resDitc={}\n",
    "    busInfDict = pcnDB.get_business_inf(b_id)\n",
    "    stnID_a, stnID_z = busInfDict['A_SITE_ID'][0], busInfDict['Z_SITE_ID'][0]\n",
    "\n",
    "    stnName_a,_ = get_stn_name(stnID_a, pcnDB, stnDict)\n",
    "    stnName_z,_ = get_stn_name(stnID_z, pcnDB, stnDict)\n",
    "    resDitc['A_STATION_NAME'] = stnName_a\n",
    "    resDitc['Z_STATION_NAME'] = stnName_z\n",
    "\n",
    "    return resDitc\n",
    "\n",
    " \n",
    "def del_business_inf(businessInf, pcnDB, stnDict=None):\n",
    "    assert 'BUSINESS_ID' in businessInf.keys() and 'CHANNEL_ID' in businessInf\n",
    "    busDict = {}\n",
    "    for idx, busID in enumerate(businessInf['BUSINESS_ID']):\n",
    "        if busID not in busDict.keys():\n",
    "            busDict[busID] = [businessInf['CHANNEL_ID'][idx]]\n",
    "        else:\n",
    "            busDict[busID].append(businessInf['CHANNEL_ID'][idx])\n",
    "\n",
    "    businessInfDict ={}\n",
    "    for idx, b_id in enumerate(list(busDict.keys())):\n",
    "        busInfDict = con_business_stn_inf(b_id, pcnDB, stnDict)\n",
    "        businessInfDict[b_id] = busInfDict\n",
    "\n",
    "    return busDict, businessInfDict\n",
    "\n",
    "\n",
    "def generate_pcnMap(channelInf):\n",
    "    pcnMap = nx.Graph()\n",
    "    stnList_a = channelInf['A_STATION_NAME']\n",
    "    stnList_z = channelInf['Z_STATION_NAME']\n",
    "    channelIdList = channelInf['OBJ_ID']\n",
    "\n",
    "    edgeDict = {}\n",
    "    for idx, (c_id, s_a, s_z) in enumerate(zip(channelIdList, stnList_a, stnList_z)):\n",
    "        edgeStr = '{}-{}'.format(s_a, s_z)\n",
    "        edgeStrRe = '{}-{}'.format(s_z, s_a)\n",
    "        if edgeStr in edgeDict.keys():\n",
    "            edgeDict[edgeStr].append(c_id)\n",
    "        elif edgeStrRe in edgeDict.keys():\n",
    "            edgeDict[edgeStrRe].append(c_id)\n",
    "        else:\n",
    "            pcnMap.add_edge(s_a, s_z)\n",
    "            edgeDict[edgeStr] = [c_id]\n",
    "\n",
    "    for e in pcnMap.edges.keys():\n",
    "        edgekey = '{}-{}'.format(e[0], e[1])\n",
    "        edgekeyRe = '{}-{}'.format(e[1], e[0])\n",
    "        if edgekey in edgeDict.keys():\n",
    "            pcnMap.edges[e]['channel_id'] = edgeDict[edgekey]\n",
    "        else:\n",
    "            pcnMap.edges[e]['channel_id'] = edgeDict[edgekeyRe]\n",
    "\n",
    "\n",
    "    return pcnMap\n",
    "\n",
    "\n",
    "def get_circuitous_bus(businessInfDict, pcnMap):\n",
    "    busDelDict={}\n",
    "    for idx,b_id in enumerate(businessInfDict.keys()):\n",
    "        stnName_a = businessInfDict[b_id]['A_STATION_NAME']\n",
    "        stnName_z = businessInfDict[b_id]['Z_STATION_NAME']\n",
    "\n",
    "        if stnName_a not in pcnMap.nodes.keys() or stnName_z not in pcnMap.nodes.keys():\n",
    "            continue\n",
    "        elif stnName_a is None or stnName_z is None:\n",
    "            continue\n",
    "        elif stnName_a == stnName_z:\n",
    "            continue\n",
    "        else:\n",
    "            busDelDict[b_id] = businessInfDict[b_id]\n",
    "\n",
    "    return busDelDict\n",
    "\n",
    "cha_inf_s, stnDict = del_channel_inf(cha_inf, pcnTestDB)\n",
    "bus_inf_s,  bus_inf2_s = del_business_inf(bus_inf, pcnTestDB, stnDict)\n",
    "pcnMap = generate_pcnMap(cha_inf_s)\n",
    "busDelDict = get_circuitous_bus(bus_inf2_s, pcnMap)\n"
   ]
  },
  {
   "cell_type": "code",
   "execution_count": 23,
   "metadata": {},
   "outputs": [
    {
     "name": "stderr",
     "output_type": "stream",
     "text": [
      "100%|██████████| 18083/18083 [00:40<00:00, 445.52it/s]\n"
     ]
    }
   ],
   "source": [
    "def get_access_routes(busDelDict, pcnMap, cutoff=3):\n",
    "    resDict={}\n",
    "    routeDict = {}\n",
    "    busIDList = list(busDelDict.keys())\n",
    "    for idx in tqdm(range(len(busDelDict))):\n",
    "        b_id = busIDList[idx]\n",
    "        stn_a, stn_z = busDelDict[b_id]['A_STATION_NAME'], busDelDict[b_id]['Z_STATION_NAME']\n",
    "        resKey = \"{}-{}\".format(stn_a, stn_z)\n",
    "        resKey1 = \"{}-{}\".format(stn_z, stn_a)\n",
    "        if resKey in resDict.keys():\n",
    "            routeDict[b_id] = resDict[resKey]\n",
    "        elif resKey1 in resDict.keys():\n",
    "            routeDict[b_id] = resDict[resKey1]\n",
    "        else:\n",
    "            nx_allRoutes = nx.all_simple_paths(pcnMap,source=stn_a,target=stn_z, cutoff=cutoff)\n",
    "            routes = list(nx_allRoutes)\n",
    "            routeDict[b_id] = routes\n",
    "            resDict[resKey] = routes\n",
    "\n",
    "    return routeDict\n",
    "    \n",
    "routeDict = get_access_routes(busDelDict, pcnMap)"
   ]
  },
  {
   "cell_type": "code",
   "execution_count": 69,
   "metadata": {},
   "outputs": [
    {
     "data": {
      "text/plain": [
       "array([ 7, 26,  4, ...,  1,  1,  1])"
      ]
     },
     "execution_count": 69,
     "metadata": {},
     "output_type": "execute_result"
    }
   ],
   "source": [
    "np.array(list(dict(pcnMap.degree).values()))"
   ]
  },
  {
   "cell_type": "code",
   "execution_count": 86,
   "metadata": {},
   "outputs": [
    {
     "name": "stdout",
     "output_type": "stream",
     "text": [
      "7.82\n"
     ]
    }
   ],
   "source": [
    "print(\"{:.2f}\".format(np.array([d for _, d in pcnMap.degree]).mean()))\n"
   ]
  },
  {
   "cell_type": "code",
   "execution_count": 29,
   "metadata": {},
   "outputs": [
    {
     "name": "stdout",
     "output_type": "stream",
     "text": [
      "******************** MAP INF *********************\n",
      "\t* Nodes num:3048\n",
      "\t* Edges num:11911\n",
      "******************** MAP INF *********************\n"
     ]
    }
   ],
   "source": [
    "print(\" MAP INF \".center(50, \"*\"))\n",
    "print('\\t* Nodes num:{}'.format(len(pcnMap.nodes)))\n",
    "print('\\t* Edges num:{}'.format(len(pcnMap.edges)))\n",
    "print(\" MAP INF \".center(50,'*'))"
   ]
  },
  {
   "cell_type": "code",
   "execution_count": 13,
   "metadata": {},
   "outputs": [],
   "source": [
    "c, v = pcnTestDB._exec_sql(\"SELECT * FROM T_SPC_SITE WHERE OBJ_ID = 'F07A0A01-9FA5-4D65-AE19-ADA4FF7219C6-00391'\")"
   ]
  },
  {
   "cell_type": "code",
   "execution_count": 49,
   "metadata": {},
   "outputs": [
    {
     "data": {
      "text/plain": [
       "['F8165186-C245-4465-8A2A-DB5C9ABE134D-44585']"
      ]
     },
     "execution_count": 49,
     "metadata": {},
     "output_type": "execute_result"
    }
   ],
   "source": [
    "bus_inf_s['94FAF1DB-56F7-4C1E-B539-A542C1474E37-29055']"
   ]
  },
  {
   "cell_type": "code",
   "execution_count": 51,
   "metadata": {},
   "outputs": [
    {
     "ename": "KeyError",
     "evalue": "'F8165186-C245-4465-8A2A-DB5C9ABE134D-44585'",
     "output_type": "error",
     "traceback": [
      "\u001b[0;31m---------------------------------------------------------------------------\u001b[0m",
      "\u001b[0;31mKeyError\u001b[0m                                  Traceback (most recent call last)",
      "\u001b[1;32m/root/pcn_test/test_pcn_route.ipynb Cell 10'\u001b[0m in \u001b[0;36m<cell line: 1>\u001b[0;34m()\u001b[0m\n\u001b[0;32m----> <a href='vscode-notebook-cell://ssh-remote%2B10.112.199.111/root/pcn_test/test_pcn_route.ipynb#ch0000009vscode-remote?line=0'>1</a>\u001b[0m cha_inf[\u001b[39m'\u001b[39;49m\u001b[39mF8165186-C245-4465-8A2A-DB5C9ABE134D-44585\u001b[39;49m\u001b[39m'\u001b[39;49m]\n",
      "\u001b[0;31mKeyError\u001b[0m: 'F8165186-C245-4465-8A2A-DB5C9ABE134D-44585'"
     ]
    }
   ],
   "source": [
    "cha_inf['F8165186-C245-4465-8A2A-DB5C9ABE134D-44585']\n"
   ]
  },
  {
   "cell_type": "code",
   "execution_count": 85,
   "metadata": {},
   "outputs": [
    {
     "data": {
      "text/plain": [
       "22173"
      ]
     },
     "execution_count": 85,
     "metadata": {},
     "output_type": "execute_result"
    }
   ],
   "source": [
    "bus_inf_s.keys().__len__()"
   ]
  },
  {
   "cell_type": "code",
   "execution_count": 55,
   "metadata": {},
   "outputs": [
    {
     "data": {
      "text/plain": [
       "{'OBJ_ID': ['F8165186-C245-4465-8A2A-DB5C9ABE134D-44585'],\n",
       " 'NAME': ['E_2M[220kV越翎变:1框-2槽-调度专网（110kv奥封风电场-获嘉变）端口~时隙:1<>500kV获嘉变OptiX OSN 7500:1框-2槽-CPOS8/2/0端口~时隙:1-1-4-2]'],\n",
       " 'CHANNEL_TYPE': ['1'],\n",
       " 'RATE': ['5'],\n",
       " 'A_RES_ID': ['2392F5E9-C562-4FEC-A860-D43216C74BF6-24762'],\n",
       " 'Z_RES_ID': ['7BC33DA9-B603-41D6-A005-8C9651C56C4A-75842'],\n",
       " 'A_STATION': ['085E98B2-66D4-4340-A21F-DC531C5F3A3D-76049'],\n",
       " 'Z_STATION': ['F07A0A01-9FA5-4D65-AE19-ADA4FF7219C6-00152']}"
      ]
     },
     "execution_count": 55,
     "metadata": {},
     "output_type": "execute_result"
    }
   ],
   "source": [
    "pcnTestDB.get_channel_inf(c_id='F8165186-C245-4465-8A2A-DB5C9ABE134D-44585')"
   ]
  },
  {
   "cell_type": "code",
   "execution_count": 62,
   "metadata": {},
   "outputs": [
    {
     "data": {
      "text/plain": [
       "False"
      ]
     },
     "execution_count": 62,
     "metadata": {},
     "output_type": "execute_result"
    }
   ],
   "source": [
    "'奥封风电场' in cha_inf_s['Z_STATION']"
   ]
  },
  {
   "cell_type": "code",
   "execution_count": 63,
   "metadata": {},
   "outputs": [
    {
     "data": {
      "text/html": [
       "<div>\n",
       "<style scoped>\n",
       "    .dataframe tbody tr th:only-of-type {\n",
       "        vertical-align: middle;\n",
       "    }\n",
       "\n",
       "    .dataframe tbody tr th {\n",
       "        vertical-align: top;\n",
       "    }\n",
       "\n",
       "    .dataframe thead th {\n",
       "        text-align: right;\n",
       "    }\n",
       "</style>\n",
       "<table border=\"1\" class=\"dataframe\">\n",
       "  <thead>\n",
       "    <tr style=\"text-align: right;\">\n",
       "      <th></th>\n",
       "      <th>OBJ_ID</th>\n",
       "      <th>NAME</th>\n",
       "      <th>CHANNEL_TYPE</th>\n",
       "      <th>RATE</th>\n",
       "      <th>A_RES_ID</th>\n",
       "      <th>Z_RES_ID</th>\n",
       "      <th>A_STATION</th>\n",
       "      <th>Z_STATION</th>\n",
       "      <th>A_STATION_NAME</th>\n",
       "      <th>Z_STATION_NAME</th>\n",
       "    </tr>\n",
       "  </thead>\n",
       "  <tbody>\n",
       "    <tr>\n",
       "      <th>28539</th>\n",
       "      <td>F8165186-C245-4465-8A2A-DB5C9ABE134D-44585</td>\n",
       "      <td>E_2M[220kV越翎变:1框-2槽-调度专网（110kv奥封风电场-获嘉变）端口~时隙:...</td>\n",
       "      <td>1</td>\n",
       "      <td>5</td>\n",
       "      <td>2392F5E9-C562-4FEC-A860-D43216C74BF6-24762</td>\n",
       "      <td>7BC33DA9-B603-41D6-A005-8C9651C56C4A-75842</td>\n",
       "      <td>085E98B2-66D4-4340-A21F-DC531C5F3A3D-76049</td>\n",
       "      <td>F07A0A01-9FA5-4D65-AE19-ADA4FF7219C6-00152</td>\n",
       "      <td>220kV越翎变</td>\n",
       "      <td>500kV获嘉变</td>\n",
       "    </tr>\n",
       "  </tbody>\n",
       "</table>\n",
       "</div>"
      ],
      "text/plain": [
       "                                           OBJ_ID  \\\n",
       "28539  F8165186-C245-4465-8A2A-DB5C9ABE134D-44585   \n",
       "\n",
       "                                                    NAME CHANNEL_TYPE RATE  \\\n",
       "28539  E_2M[220kV越翎变:1框-2槽-调度专网（110kv奥封风电场-获嘉变）端口~时隙:...            1    5   \n",
       "\n",
       "                                         A_RES_ID  \\\n",
       "28539  2392F5E9-C562-4FEC-A860-D43216C74BF6-24762   \n",
       "\n",
       "                                         Z_RES_ID  \\\n",
       "28539  7BC33DA9-B603-41D6-A005-8C9651C56C4A-75842   \n",
       "\n",
       "                                        A_STATION  \\\n",
       "28539  085E98B2-66D4-4340-A21F-DC531C5F3A3D-76049   \n",
       "\n",
       "                                        Z_STATION A_STATION_NAME  \\\n",
       "28539  F07A0A01-9FA5-4D65-AE19-ADA4FF7219C6-00152       220kV越翎变   \n",
       "\n",
       "      Z_STATION_NAME  \n",
       "28539       500kV获嘉变  "
      ]
     },
     "execution_count": 63,
     "metadata": {},
     "output_type": "execute_result"
    }
   ],
   "source": [
    "tmp_pd.loc[tmp_pd['OBJ_ID'] == 'F8165186-C245-4465-8A2A-DB5C9ABE134D-44585']"
   ]
  },
  {
   "cell_type": "code",
   "execution_count": 64,
   "metadata": {},
   "outputs": [
    {
     "data": {
      "text/plain": [
       "{'OBJ_ID': ['94FAF1DB-56F7-4C1E-B539-A542C1474E37-29055'],\n",
       " 'FULL_NAME': ['豫/省公司自动化业务系统/(奥封风电场～500kV嘉和变) 调度自动化业务01'],\n",
       " 'BUZ_TYPE': ['3'],\n",
       " 'A_SITE_ID': ['4FF9B58D-A99F-46F8-82E2-9745D1B555D8-79715'],\n",
       " 'Z_SITE_ID': ['F07A0A01-9FA5-4D65-AE19-ADA4FF7219C6-00255'],\n",
       " 'DISPATCH_LEVEL': ['3'],\n",
       " 'BUZ_RATE': ['2M']}"
      ]
     },
     "execution_count": 64,
     "metadata": {},
     "output_type": "execute_result"
    }
   ],
   "source": [
    "pcnTestDB.get_business_inf(b_id='94FAF1DB-56F7-4C1E-B539-A542C1474E37-29055')"
   ]
  },
  {
   "cell_type": "code",
   "execution_count": 1,
   "metadata": {},
   "outputs": [
    {
     "ename": "TypeError",
     "evalue": "unhashable type: 'list'",
     "output_type": "error",
     "traceback": [
      "\u001b[0;31m---------------------------------------------------------------------------\u001b[0m",
      "\u001b[0;31mTypeError\u001b[0m                                 Traceback (most recent call last)",
      "\u001b[1;32m/root/pcn_test/test_pcn_route.ipynb Cell 16'\u001b[0m in \u001b[0;36m<cell line: 6>\u001b[0;34m()\u001b[0m\n\u001b[1;32m      <a href='vscode-notebook-cell://ssh-remote%2B7b22686f73744e616d65223a2245422d54696e6b43656e746572227d/root/pcn_test/test_pcn_route.ipynb#ch0000015vscode-remote?line=0'>1</a>\u001b[0m test_dict\u001b[39m=\u001b[39m{\n\u001b[1;32m      <a href='vscode-notebook-cell://ssh-remote%2B7b22686f73744e616d65223a2245422d54696e6b43656e746572227d/root/pcn_test/test_pcn_route.ipynb#ch0000015vscode-remote?line=1'>2</a>\u001b[0m     \u001b[39m'\u001b[39m\u001b[39m1\u001b[39m\u001b[39m'\u001b[39m:\u001b[39m1\u001b[39m,\n\u001b[1;32m      <a href='vscode-notebook-cell://ssh-remote%2B7b22686f73744e616d65223a2245422d54696e6b43656e746572227d/root/pcn_test/test_pcn_route.ipynb#ch0000015vscode-remote?line=2'>3</a>\u001b[0m     \u001b[39m'\u001b[39m\u001b[39m2\u001b[39m\u001b[39m'\u001b[39m:\u001b[39m2\u001b[39m\n\u001b[1;32m      <a href='vscode-notebook-cell://ssh-remote%2B7b22686f73744e616d65223a2245422d54696e6b43656e746572227d/root/pcn_test/test_pcn_route.ipynb#ch0000015vscode-remote?line=3'>4</a>\u001b[0m }\n\u001b[0;32m----> <a href='vscode-notebook-cell://ssh-remote%2B7b22686f73744e616d65223a2245422d54696e6b43656e746572227d/root/pcn_test/test_pcn_route.ipynb#ch0000015vscode-remote?line=5'>6</a>\u001b[0m [\u001b[39m'\u001b[39;49m\u001b[39m1\u001b[39;49m\u001b[39m'\u001b[39;49m,\u001b[39m'\u001b[39;49m\u001b[39m2\u001b[39;49m\u001b[39m'\u001b[39;49m] \u001b[39min\u001b[39;49;00m test_dict\u001b[39m.\u001b[39;49mkeys()\n",
      "\u001b[0;31mTypeError\u001b[0m: unhashable type: 'list'"
     ]
    }
   ],
   "source": [
    "test_dict={\n",
    "    '1':1,\n",
    "    '2':2\n",
    "}\n",
    "\n",
    "['1','2'] in test_dict.keys()"
   ]
  },
  {
   "cell_type": "code",
   "execution_count": 18,
   "metadata": {},
   "outputs": [
    {
     "name": "stdout",
     "output_type": "stream",
     "text": [
      "**************** PCN DataBase INF ****************\n",
      "\t* USER: PCN_TEST\n",
      "\t* SID: 172.17.0.2:1521/LHR11G\n",
      "************ Successfully connected! *************\n"
     ]
    }
   ],
   "source": [
    "pcnDBInf={\n",
    "        'USER': 'PCN_TEST',\n",
    "        'PASS': '784427618',\n",
    "        'SID': '172.17.0.2:1521/LHR11G'\n",
    "    } \n",
    "print(\" PCN DataBase INF \".center(50, '*'))\n",
    "for k in pcnDBInf.keys():\n",
    "    if k != 'PASS':\n",
    "        print(\"\\t* {}: {}\".format(k, pcnDBInf[k]))\n",
    "print(\" Successfully connected! \".center(50, '*'))\n"
   ]
  },
  {
   "cell_type": "code",
   "execution_count": null,
   "metadata": {},
   "outputs": [],
   "source": []
  }
 ],
 "metadata": {
  "interpreter": {
   "hash": "571caa6d50c595aee34f36e14b98d15fa72bd6495a8f71d912e6be197a438b94"
  },
  "kernelspec": {
   "display_name": "Python 3.9.0 ('pcn_route')",
   "language": "python",
   "name": "python3"
  },
  "language_info": {
   "codemirror_mode": {
    "name": "ipython",
    "version": 3
   },
   "file_extension": ".py",
   "mimetype": "text/x-python",
   "name": "python",
   "nbconvert_exporter": "python",
   "pygments_lexer": "ipython3",
   "version": "3.9.0"
  },
  "orig_nbformat": 4
 },
 "nbformat": 4,
 "nbformat_minor": 2
}

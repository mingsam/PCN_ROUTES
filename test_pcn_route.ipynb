{
 "cells": [
  {
   "cell_type": "markdown",
   "metadata": {},
   "source": [
    "# 0. 引入依赖包\n",
    "注意 cx_Oracle裤需要动态依赖"
   ]
  },
  {
   "cell_type": "code",
   "execution_count": 1,
   "metadata": {},
   "outputs": [],
   "source": [
    "import pandas as pd\n",
    "import networkx as nx\n",
    "import numpy as np\n",
    "import os\n",
    "import re\n",
    "from db_con.pcn_oracle_data import PCNDB\n",
    "from tqdm import tqdm\n",
    "os.getcwd()\n",
    "import yaml\n"
   ]
  },
  {
   "cell_type": "code",
   "execution_count": 2,
   "metadata": {},
   "outputs": [
    {
     "data": {
      "text/plain": [
       "':/usr/local/cuda/lib64:/home/wzk/Oracle/instantclient_19_15'"
      ]
     },
     "execution_count": 2,
     "metadata": {},
     "output_type": "execute_result"
    }
   ],
   "source": [
    "os.environ['LD_LIBRARY_PATH']"
   ]
  },
  {
   "cell_type": "markdown",
   "metadata": {},
   "source": [
    "# 1. 连接数据库"
   ]
  },
  {
   "cell_type": "code",
   "execution_count": 3,
   "metadata": {},
   "outputs": [],
   "source": [
    "pcnTestDB = PCNDB('PCN_TEST','784427618', 'localhost:1521/LHR11G')\n",
    "bus_inf = pcnTestDB.get_all_businesses()\n",
    "cha_inf = pcnTestDB.get_all_channels()"
   ]
  },
  {
   "cell_type": "markdown",
   "metadata": {},
   "source": [
    "# 2. 获取有效通路\n",
    "数据处理"
   ]
  },
  {
   "cell_type": "code",
   "execution_count": 4,
   "metadata": {},
   "outputs": [],
   "source": [
    "def get_stn_name(stn_id, pcnDB, stnDict):\n",
    "    del_full_name = lambda x:x[0].split('/')[-1] if x[0] != None else None\n",
    "    if stn_id not in stnDict.keys():\n",
    "        stn_dict = pcnDB.get_station_inf(stn_id, tCols=['FULL_NAME', 'VOLTAGE_CLASS', 'DSP_LEVEL'])\n",
    "        stn_name = del_full_name(stn_dict['FULL_NAME']) if stn_dict['FULL_NAME'] != None else None\n",
    "        vol_class = del_full_name(stn_dict['VOLTAGE_CLASS']) if stn_dict['VOLTAGE_CLASS'] != None else None\n",
    "        dsp_level = del_full_name(stn_dict['DSP_LEVEL']) if stn_dict['DSP_LEVEL'] != None else None\n",
    "        stnDict[stn_id] = {\n",
    "            'STN_ID': stn_id,\n",
    "            'STN_NAME': stn_name,\n",
    "            'VOLTAGE_CLASS': vol_class,\n",
    "            'DSP_LEVEL': dsp_level\n",
    "        }\n",
    "    else:\n",
    "        stn_name = stnDict[stn_id]['STN_NAME']\n",
    "    \n",
    "    return stn_name, stnDict\n",
    "\n",
    "\n",
    "def ch_channel_name(channelInf, pcnDB):\n",
    "    assert 'A_STATION' in channelInf.keys() and 'Z_STATION' in channelInf.keys()\n",
    "    stnList_a = channelInf['A_STATION']\n",
    "    stnList_z = channelInf['Z_STATION']\n",
    "\n",
    "    stnList_a_name , stnList_z_name = [], []\n",
    "    resDict = {}\n",
    "\n",
    "    for idx, (s_a, s_z) in enumerate(zip(stnList_a, stnList_z)):\n",
    "        s_a_name, resDict = get_stn_name(s_a, pcnDB, resDict)\n",
    "        s_z_name, resDict = get_stn_name(s_z, pcnDB, resDict)\n",
    "\n",
    "        stnList_a_name.append(s_a_name)\n",
    "        stnList_z_name.append(s_z_name)\n",
    "\n",
    "    channelInf['A_STATION_NAME'] = stnList_a_name\n",
    "    channelInf['Z_STATION_NAME'] = stnList_z_name\n",
    "\n",
    "    return channelInf, resDict\n",
    "\n",
    "\n",
    "def del_channel_inf(channelInf, pcnDB):\n",
    "    channelInf, stnDict = ch_channel_name(channelInf, pcnDB)\n",
    "    stnList_a = channelInf['A_STATION_NAME']\n",
    "    stnList_z = channelInf['Z_STATION_NAME']\n",
    "\n",
    "    assert len(stnList_a) == len(stnList_z)\n",
    "    idx = 0\n",
    "    while idx < len(stnList_a):\n",
    "        s_a = stnList_a[idx]\n",
    "        s_z = stnList_z[idx]\n",
    "        if s_a is None or s_z is None:\n",
    "            for k in channelInf.keys():\n",
    "                channelInf[k].pop(idx)\n",
    "        elif s_a == s_z:\n",
    "            for k in channelInf.keys():\n",
    "                channelInf[k].pop(idx)\n",
    "        else:\n",
    "            idx += 1\n",
    "\n",
    "    channelInfPd = pd.DataFrame(data=channelInf)\n",
    "    return channelInfPd, stnDict\n",
    "\n",
    "\n",
    "def con_business_inf(b_id, pcnDB, stnDict):\n",
    "    busInfDict = pcnDB.get_business_inf(b_id)\n",
    "    stnID_a, stnID_z = busInfDict['A_SITE_ID'][0], busInfDict['Z_SITE_ID'][0]\n",
    "\n",
    "    stnName_a = get_stn_name(stnID_a, pcnDB, stnDict)\n",
    "    stnName_z = get_stn_name(stnID_z, pcnDB, stnDict)\n",
    "    busInfDict['A_STATION_NAME'] = stnName_a\n",
    "    busInfDict['Z_STATION_NAME'] = stnName_z\n",
    "\n",
    "    return busInfDict\n",
    "\n",
    "\n",
    "def con_business_stn_inf(b_id, pcnDB, stnDict):\n",
    "    resDitc={}\n",
    "    busInfDict = pcnDB.get_business_inf(b_id)\n",
    "    stnID_a, stnID_z = busInfDict['A_SITE_ID'][0], busInfDict['Z_SITE_ID'][0]\n",
    "\n",
    "    stnName_a,_ = get_stn_name(stnID_a, pcnDB, stnDict)\n",
    "    stnName_z,_ = get_stn_name(stnID_z, pcnDB, stnDict)\n",
    "    resDitc['A_STATION_NAME'] = stnName_a\n",
    "    resDitc['Z_STATION_NAME'] = stnName_z\n",
    "\n",
    "    return resDitc\n",
    "\n",
    " \n",
    "def del_business_inf(businessInf, pcnDB, stnDict=None):\n",
    "    assert 'BUSINESS_ID' in businessInf.keys() and 'CHANNEL_ID' in businessInf\n",
    "    busDict = {}\n",
    "    for idx, busID in enumerate(businessInf['BUSINESS_ID']):\n",
    "        if busID not in busDict.keys():\n",
    "            busDict[busID] = [businessInf['CHANNEL_ID'][idx]]\n",
    "        else:\n",
    "            busDict[busID].append(businessInf['CHANNEL_ID'][idx])\n",
    "\n",
    "    businessInfDict ={}\n",
    "    for idx, b_id in enumerate(list(busDict.keys())):\n",
    "        busInfDict = con_business_stn_inf(b_id, pcnDB, stnDict)\n",
    "        businessInfDict[b_id] = busInfDict\n",
    "\n",
    "    return busDict, businessInfDict\n",
    "\n",
    "\n",
    "def generate_pcnMap(channelInf):\n",
    "    pcnMap = nx.Graph()\n",
    "    stnList_a = channelInf['A_STATION_NAME']\n",
    "    stnList_z = channelInf['Z_STATION_NAME']\n",
    "    channelIdList = channelInf['OBJ_ID']\n",
    "\n",
    "    edgeDict = {}\n",
    "    for idx, (c_id, s_a, s_z) in enumerate(zip(channelIdList, stnList_a, stnList_z)):\n",
    "        edgeStr = '{}-{}'.format(s_a, s_z)\n",
    "        edgeStrRe = '{}-{}'.format(s_z, s_a)\n",
    "        if edgeStr in edgeDict.keys():\n",
    "            edgeDict[edgeStr].append(c_id)\n",
    "        elif edgeStrRe in edgeDict.keys():\n",
    "            edgeDict[edgeStrRe].append(c_id)\n",
    "        else:\n",
    "            pcnMap.add_edge(s_a, s_z)\n",
    "            edgeDict[edgeStr] = [c_id]\n",
    "\n",
    "    for e in pcnMap.edges.keys():\n",
    "        edgekey = '{}-{}'.format(e[0], e[1])\n",
    "        edgekeyRe = '{}-{}'.format(e[1], e[0])\n",
    "        if edgekey in edgeDict.keys():\n",
    "            pcnMap.edges[e]['channel_id'] = edgeDict[edgekey]\n",
    "        else:\n",
    "            pcnMap.edges[e]['channel_id'] = edgeDict[edgekeyRe]\n",
    "\n",
    "\n",
    "    return pcnMap\n",
    "\n",
    "\n",
    "def get_circuitous_bus(businessInfDict, pcnMap):\n",
    "    busDelDict={}\n",
    "    for idx,b_id in enumerate(businessInfDict.keys()):\n",
    "        stnName_a = businessInfDict[b_id]['A_STATION_NAME']\n",
    "        stnName_z = businessInfDict[b_id]['Z_STATION_NAME']\n",
    "\n",
    "        if stnName_a not in pcnMap.nodes.keys() or stnName_z not in pcnMap.nodes.keys():\n",
    "            continue\n",
    "        elif stnName_a is None or stnName_z is None:\n",
    "            continue\n",
    "        elif stnName_a == stnName_z:\n",
    "            continue\n",
    "        else:\n",
    "            busDelDict[b_id] = businessInfDict[b_id]\n",
    "\n",
    "    return busDelDict\n",
    "\n",
    "def get_circuitous_channel(busDelDict, busDict):\n",
    "    chaDelDict={}\n",
    "    for b_id in busDelDict.keys():\n",
    "        if b_id in busDict.keys():\n",
    "            chaDelDict[b_id] = busDict[b_id]\n",
    "    \n",
    "    return chaDelDict\n",
    "\n",
    "def get_circuitous_inf(busInfDict, businessInfDict, pcnMap):\n",
    "    pcnBussInf={}\n",
    "    for _,b_id in enumerate(businessInfDict.keys()):\n",
    "        stnName_a = businessInfDict[b_id]['A_STATION_NAME']\n",
    "        stnName_z = businessInfDict[b_id]['Z_STATION_NAME']\n",
    "\n",
    "        if stnName_a not in pcnMap.nodes.keys() or stnName_z not in pcnMap.nodes.keys():\n",
    "            continue\n",
    "        elif stnName_a is None or stnName_z is None:\n",
    "            continue\n",
    "        elif stnName_a == stnName_z:\n",
    "            continue\n",
    "        else:\n",
    "            pcnBussInf[b_id] = businessInfDict[b_id]\n",
    "    \n",
    "    for b_id in pcnBussInf.keys():\n",
    "        if b_id in busInfDict.keys():\n",
    "            pcnBussInf[b_id]['CHANNELS'] = busInfDict[b_id]\n",
    "    \n",
    "    return pcnBussInf\n",
    "\n"
   ]
  },
  {
   "cell_type": "code",
   "execution_count": 5,
   "metadata": {},
   "outputs": [],
   "source": [
    "channelInfPd, stnDict = del_channel_inf(cha_inf, pcnTestDB)\n",
    "busInfDict, businessInfDict = del_business_inf(bus_inf, pcnTestDB, stnDict)\n",
    "pcnMap = generate_pcnMap(channelInfPd)\n",
    "# busDelDict = get_circuitous_bus(businessInfDict, pcnMap)\n",
    "# chaDelDict = get_circuitous_channel(busDelDict, busInfDict)\n",
    "pcnBussInf =  get_circuitous_inf(busInfDict, businessInfDict, pcnMap)"
   ]
  },
  {
   "cell_type": "markdown",
   "metadata": {},
   "source": [
    "## 2.1 获取所有可用通路\n",
    "利用nx.all_simple_paths"
   ]
  },
  {
   "cell_type": "code",
   "execution_count": 6,
   "metadata": {},
   "outputs": [
    {
     "name": "stderr",
     "output_type": "stream",
     "text": [
      "100%|██████████| 18083/18083 [00:20<00:00, 865.31it/s] \n"
     ]
    }
   ],
   "source": [
    "def get_access_routes(pcnBussInf, pcnMap, cutoff=3):\n",
    "    resDict={}\n",
    "    routeDict = {}\n",
    "    busIDList = list(pcnBussInf.keys())\n",
    "    for idx in tqdm(range(len(pcnBussInf))):\n",
    "        b_id = busIDList[idx]\n",
    "        stn_a, stn_z = pcnBussInf[b_id]['A_STATION_NAME'], pcnBussInf[b_id]['Z_STATION_NAME']\n",
    "        resKey = \"{}-{}\".format(stn_a, stn_z)\n",
    "        resKey1 = \"{}-{}\".format(stn_z, stn_a)\n",
    "        if resKey in resDict.keys():\n",
    "            routeDict[b_id] = resDict[resKey]\n",
    "        elif resKey1 in resDict.keys():\n",
    "            routeDict[b_id] = resDict[resKey1]\n",
    "        else:\n",
    "            nx_allRoutes = nx.all_simple_paths(pcnMap,source=stn_a,target=stn_z, cutoff=cutoff)\n",
    "            routes = list(nx_allRoutes)\n",
    "            routeDict[b_id] = routes\n",
    "            resDict[resKey] = routes\n",
    "\n",
    "    return routeDict\n",
    "    \n",
    "routeDict = get_access_routes(pcnBussInf, pcnMap)"
   ]
  },
  {
   "cell_type": "markdown",
   "metadata": {},
   "source": [
    "# 3.路由优选"
   ]
  },
  {
   "cell_type": "markdown",
   "metadata": {},
   "source": [
    "## 3.1 厂商筛选"
   ]
  },
  {
   "cell_type": "code",
   "execution_count": 7,
   "metadata": {},
   "outputs": [],
   "source": [
    "def del_business_fac(chaList, pcnDB):\n",
    "    assert isinstance(chaList, list)\n",
    "    get_value = lambda x: x[\"NAME\"][0] if 'NAME' in x.keys() else None\n",
    "\n",
    "    facList = [get_value(pcnDB.get_fac_inf(c_id)) for c_id in chaList]\n",
    "    facList = list(map(_del_fac_lable, facList))\n",
    "\n",
    "    conDict = {}\n",
    "    maxNum, maxName = 0, ''\n",
    "    for f in facList:\n",
    "        if f not in conDict.keys():\n",
    "            conDict[f] = 1\n",
    "        else:\n",
    "            conDict[f] += 1\n",
    "        if conDict[f] > maxNum:\n",
    "            maxNum = conDict[f]\n",
    "            maxName = f\n",
    "    return maxName\n",
    "    \n",
    "def del_channel_fac(ch_id, pcnDB):\n",
    "    get_value = lambda x: x[\"NAME\"][0] if 'NAME' in x.keys() else None\n",
    "    facList = get_value(pcnDB.get_fac_inf(ch_id))\n",
    "    facOut = _del_fac_lable(facList)\n",
    "\n",
    "    return facOut\n",
    "\n",
    "\n",
    "def _del_fac_lable(facVal):\n",
    "    if  not isinstance(facVal, str):\n",
    "        return 'Others'\n",
    "    key_words = ['华为', '依赛', '烽火', '马可尼', 'ECI北京', '中兴', '北电', '赛特']\n",
    "    re_str = '|'.join(key_words)\n",
    "    \n",
    "    re_op_matchKeys = lambda x: [re.search(re_str, x), re.search('SDH', x)]\n",
    "    re_op_delNone = lambda x: x.group(0) if x is not None else ''\n",
    "\n",
    "    facValList = re_op_matchKeys(facVal)\n",
    "    res_val = ''.join([re_op_delNone(i) for i in facValList])\n",
    "    res_val = res_val if len(res_val) != 0 else facVal\n",
    "\n",
    "    return res_val\n",
    "\n",
    "def get_fac_inf_bu(pcnBussInf, pcnDB):\n",
    "    buKey = list(pcnBussInf.keys())\n",
    "    for b_idx in tqdm(range(len(buKey))):\n",
    "        b_id = buKey[b_idx]\n",
    "        busInfDict = pcnBussInf[b_id]\n",
    "        fac = del_business_fac(busInfDict['CHANNELS'], pcnDB)\n",
    "        busInfDict['FAC_LABLE'] = fac\n",
    "    \n",
    "    return pcnBussInf\n",
    "\n",
    "def get_fac_inf_ch(channelInfPd, pcnDB):\n",
    "    facSer = pd.Series(data=None, dtype='object')\n",
    "    for i in tqdm(range(len(channelInfPd))):\n",
    "        chIloc = channelInfPd.iloc[i]\n",
    "        ch_id = chIloc['OBJ_ID']\n",
    "        fac = del_channel_fac(ch_id, pcnDB)\n",
    "        facSer = pd.concat([facSer, pd.Series([fac])], ignore_index=True)\n",
    "    \n",
    "    channelInfPd.loc[:,['FAC_LABLE']] = facSer\n",
    "\n",
    "    return channelInfPd\n",
    "\n",
    "\n",
    "    "
   ]
  },
  {
   "cell_type": "code",
   "execution_count": 8,
   "metadata": {},
   "outputs": [
    {
     "name": "stderr",
     "output_type": "stream",
     "text": [
      "100%|██████████| 18083/18083 [03:59<00:00, 75.61it/s]\n"
     ]
    }
   ],
   "source": [
    "pcnBussInf = get_fac_inf_bu(pcnBussInf, pcnTestDB)"
   ]
  },
  {
   "cell_type": "code",
   "execution_count": 9,
   "metadata": {},
   "outputs": [
    {
     "name": "stderr",
     "output_type": "stream",
     "text": [
      "100%|██████████| 29259/29259 [06:35<00:00, 74.06it/s] \n"
     ]
    }
   ],
   "source": [
    "channelInfPd =  get_fac_inf_ch(channelInfPd, pcnTestDB)"
   ]
  },
  {
   "cell_type": "markdown",
   "metadata": {},
   "source": [
    "## 3.2 获取通道类型和业务类型"
   ]
  },
  {
   "cell_type": "code",
   "execution_count": 10,
   "metadata": {},
   "outputs": [],
   "source": [
    "def get_business_type(pcnBussInf, pcnDB):\n",
    "    getInt = lambda x: x[0] if isinstance(x, list) else x\n",
    "    for b_id, bussInfDict in pcnBussInf.items():\n",
    "        b_type = pcnDB.get_buss_type(b_id)\n",
    "        bussInfDict[\"B_TYPE\"] = getInt(b_type['BUZ_TYPE']) if b_type['BUZ_TYPE'] != None else -1\n",
    "\n",
    "    return pcnBussInf\n",
    "    "
   ]
  },
  {
   "cell_type": "code",
   "execution_count": 11,
   "metadata": {},
   "outputs": [],
   "source": [
    "def _del_cType(cList, channelInfPd):\n",
    "    cTpyeList = []\n",
    "    for cha in cList:\n",
    "        res = channelInfPd.loc[channelInfPd['OBJ_ID'] == cha, \"CHANNEL_TYPE\"]\n",
    "        cTpyeList.extend(res.to_list())\n",
    "    return cTpyeList\n",
    "\n",
    "def get_channel_type(pcnBussInf, channelInfPd):\n",
    "    for b_id, bussInfDict in pcnBussInf.items():\n",
    "        chaList = bussInfDict['CHANNELS']\n",
    "        cTpyeList = _del_cType(chaList, channelInfPd)\n",
    "        cType = cTpyeList[0] if len(cTpyeList) != 0 else '-1'\n",
    "        bussInfDict['C_TYPE'] = cType\n",
    "\n",
    "    return pcnBussInf\n",
    "    "
   ]
  },
  {
   "cell_type": "code",
   "execution_count": 12,
   "metadata": {},
   "outputs": [],
   "source": [
    "pcnBussInf = get_business_type(pcnBussInf, pcnTestDB)\n",
    "pcnBussInf = get_channel_type(pcnBussInf, channelInfPd)"
   ]
  },
  {
   "cell_type": "markdown",
   "metadata": {},
   "source": [
    "## 3.3 路由通道过滤"
   ]
  },
  {
   "cell_type": "code",
   "execution_count": 13,
   "metadata": {},
   "outputs": [],
   "source": [
    "# 扫描站连接属性\n",
    "def get_stnLink_attribute(channelInfPd, pcnBussInf):\n",
    "    stnLinkInf = {}\n",
    "    print(\"Collect channel type information\")\n",
    "    for i in tqdm(range(len(channelInfPd))):\n",
    "        chInfIloc = channelInfPd.iloc[i]\n",
    "        aStn, zStn = chInfIloc['A_STATION_NAME'], chInfIloc['Z_STATION_NAME']\n",
    "        cType = chInfIloc['CHANNEL_TYPE']\n",
    "        facType = chInfIloc['FAC_LABLE']\n",
    "        stnKey = '{}-{}'.format(aStn, zStn)\n",
    "        if stnKey not in stnLinkInf.keys():\n",
    "            stnLinkInf[stnKey] = {'CTYPE': set([cType]), 'FTYPE': set([facType])}\n",
    "        else:\n",
    "            stnLinkInf[stnKey]['CTYPE'] = stnLinkInf[stnKey]['CTYPE'] | set([cType])\n",
    "            stnLinkInf[stnKey]['FTYPE'] = stnLinkInf[stnKey]['FTYPE'] | set([facType])\n",
    "\n",
    "    print(\"Collect business type information\")\n",
    "    buKey = list(pcnBussInf.keys())\n",
    "    for b_idx in tqdm(range(len(buKey))):\n",
    "        b_id = buKey[b_idx]\n",
    "        bussInf = pcnBussInf[b_id]\n",
    "        aStn, zStn = bussInf['A_STATION_NAME'], bussInf['Z_STATION_NAME']\n",
    "        bType = bussInf['B_TYPE']\n",
    "        # cType = chInfIloc['CHANNEL_TYPE']\n",
    "        stnKey = '{}-{}'.format(aStn, zStn)\n",
    "        if stnKey not in stnLinkInf.keys():\n",
    "            stnLinkInf[stnKey] = {'BTYPE': set(bType)}\n",
    "        else:\n",
    "            if 'BTYPE' in stnLinkInf[stnKey].keys():\n",
    "                stnLinkInf[stnKey]['BTYPE'] = stnLinkInf[stnKey]['BTYPE'] | set([bType])  \n",
    "            else:\n",
    "                stnLinkInf[stnKey]['BTYPE'] = set([bType])\n",
    "        \n",
    "    return stnLinkInf\n",
    "\n"
   ]
  },
  {
   "cell_type": "code",
   "execution_count": 14,
   "metadata": {},
   "outputs": [
    {
     "name": "stdout",
     "output_type": "stream",
     "text": [
      "Collect channel type information\n"
     ]
    },
    {
     "name": "stderr",
     "output_type": "stream",
     "text": [
      "100%|██████████| 29259/29259 [00:01<00:00, 15136.83it/s]\n"
     ]
    },
    {
     "name": "stdout",
     "output_type": "stream",
     "text": [
      "Collect business type information\n"
     ]
    },
    {
     "name": "stderr",
     "output_type": "stream",
     "text": [
      "100%|██████████| 18083/18083 [00:00<00:00, 620307.34it/s]\n"
     ]
    }
   ],
   "source": [
    "stnLinkInf = get_stnLink_attribute(channelInfPd, pcnBussInf)"
   ]
  },
  {
   "cell_type": "code",
   "execution_count": 15,
   "metadata": {},
   "outputs": [],
   "source": [
    "def save_dict_to_yaml(dict_value: dict, save_path: str):\n",
    "    \"\"\"dict保存为yaml\"\"\"\n",
    "    with open(save_path, 'w') as file:\n",
    "        file.write(yaml.dump(dict_value, allow_unicode=True))\n",
    "\n",
    "\n",
    "def read_yaml_to_dict(yaml_path: str, ):\n",
    "    with open(yaml_path) as file:\n",
    "        dict_value = yaml.load(file.read(), Loader=yaml.FullLoader)\n",
    "        return dict_value"
   ]
  },
  {
   "cell_type": "code",
   "execution_count": 16,
   "metadata": {},
   "outputs": [
    {
     "name": "stderr",
     "output_type": "stream",
     "text": [
      "100%|██████████| 18083/18083 [00:06<00:00, 2711.79it/s]\n"
     ]
    }
   ],
   "source": [
    "def filter_routes(routeDict, pcnBussInf, stnLinkInf):\n",
    "    b_idList = list(routeDict.keys())\n",
    "    TypeRule = read_yaml_to_dict('./conf/limit_rule.yml')\n",
    "    routeLimitDict = {}\n",
    "    for b_idx in tqdm(range(len(b_idList))):\n",
    "        b_id = b_idList[b_idx]\n",
    "        routes = routeDict[b_id]\n",
    "        TypeDict = dict([(key, pcnBussInf[b_id][key]) for key in ['FAC_LABLE', 'B_TYPE', 'C_TYPE']])\n",
    "        routesLimit = _del_routes_limit(routes, TypeDict, TypeRule, stnLinkInf)\n",
    "        routeLimitDict[b_id] = routesLimit\n",
    "        # break\n",
    "    return routeLimitDict\n",
    "\n",
    "def _del_routes_limit(routes, TypeDict, TypeRule, stnLinkInf):\n",
    "    routesOut = []\n",
    "    for routeList in routes:\n",
    "        RoutePass = False\n",
    "        if len(routeList) == 2:\n",
    "            continue\n",
    "        for a_idx in range(len(routeList) - 1):\n",
    "            z_idx = a_idx + 1\n",
    "            aStn, zStn = routeList[a_idx], routeList[z_idx]\n",
    "            stnKey = '{}-{}'.format(aStn, zStn)\n",
    "            stnKey1 = '{}-{}'.format(zStn, aStn)\n",
    "            stnInfAZ = stnLinkInf[stnKey] if stnKey in stnLinkInf.keys() else stnLinkInf[stnKey1]\n",
    "            stnInfAZ1 = stnLinkInf[stnKey1] if stnKey1 in stnLinkInf.keys() else stnLinkInf[stnKey]\n",
    "            stnInfAZ.update(stnInfAZ1)\n",
    "\n",
    "            #BTYPE\n",
    "            if 'BTYPE' in stnInfAZ.keys():\n",
    "                bTypeRule = TypeRule['BTYPE']\n",
    "                stnBType = stnInfAZ['BTYPE']\n",
    "                bType = TypeDict['B_TYPE']\n",
    "                bRes = stnBType & set(bTypeRule[bType])\n",
    "                if len(bRes) == 0:\n",
    "                    # print(stnBType, bTypeRule[bType], bType)\n",
    "                    # print('BTYPE out')\n",
    "                    break\n",
    "\n",
    "            #CTYPE\n",
    "            cTypeRule = TypeRule['CTYPE']\n",
    "            stnCType = stnInfAZ['CTYPE']\n",
    "            cType = TypeDict['C_TYPE']\n",
    "            # if cType == -1:\n",
    "                # print(TypeDict)\n",
    "                # print(stnInfAZ)\n",
    "                # print(cTypeRule)\n",
    "\n",
    "            cRes = stnCType & set(cTypeRule[cType])\n",
    "            if len(cRes) == 0:\n",
    "                break\n",
    "\n",
    "            #FAC_LABLE\n",
    "            if 'FTYPE' in stnInfAZ.keys():\n",
    "                facType = TypeDict['FAC_LABLE']\n",
    "                if facType == 'Others' or 'Others' in stnInfAZ['FTYPE']:\n",
    "                    continue\n",
    "                if facType not in stnInfAZ['FTYPE']:\n",
    "                    # print(facType, stnInfAZ['FTYPE'])\n",
    "                    # print('FTYPE out')\n",
    "\n",
    "                    break\n",
    "            if zStn == routeList[-1]:\n",
    "                RoutePass = True\n",
    "\n",
    "        if RoutePass == True:\n",
    "            routesOut.append(routeList)\n",
    "    return routesOut\n",
    "        \n",
    "\n",
    "def _del_single_route(azStn, stnDict, TypeDict):\n",
    "    pass\n",
    "\n",
    "routeLimitDict = filter_routes(routeDict, pcnBussInf, stnLinkInf)"
   ]
  },
  {
   "cell_type": "markdown",
   "metadata": {},
   "source": [
    "## 3.4 获取通道优选数据"
   ]
  },
  {
   "cell_type": "code",
   "execution_count": 17,
   "metadata": {},
   "outputs": [
    {
     "name": "stderr",
     "output_type": "stream",
     "text": [
      "100%|██████████| 18083/18083 [00:00<00:00, 281373.37it/s]\n"
     ]
    }
   ],
   "source": [
    "# 获取路由跳数\n",
    "def get_routes_steps(routeLimitDict):\n",
    "    routeStepsDict = {}\n",
    "    b_keyList = list(routeLimitDict.keys())\n",
    "    for b_idx in tqdm(range(len(b_keyList))):\n",
    "        b_id = b_keyList[b_idx]\n",
    "        routes = routeLimitDict[b_id]\n",
    "        routeSteps = []\n",
    "        for route in routes:\n",
    "            rSteps = len(route)\n",
    "            routeSteps.append(rSteps)\n",
    "        routeStepsDict[b_id] = np.array(routeSteps)\n",
    "\n",
    "    return routeStepsDict\n",
    "routeStepsDict = get_routes_steps(routeLimitDict)"
   ]
  },
  {
   "cell_type": "code",
   "execution_count": null,
   "metadata": {},
   "outputs": [],
   "source": [
    "pd_tmp = pd.DataFrame(data=stnDict)\n",
    "pd_tmp = pd_tmp.T.reset_index(drop=True)\n",
    "pd_tmp.loc[pd_tmp['VOLTAGE_CLASS'] == '11']\n"
   ]
  },
  {
   "cell_type": "code",
   "execution_count": 19,
   "metadata": {},
   "outputs": [],
   "source": [
    "stnInfPd = pd.DataFrame(data=stnDict)\n",
    "stnInfPd = stnInfPd.T.reset_index(drop=True)\n",
    "\n",
    "def get_route_attr(route, stnInfPd, attr):\n",
    "    attrRes = []\n",
    "    for stn in route:\n",
    "        resAttr = stnInfPd.loc[stnInfPd['STN_NAME'] == stn, attr].values\n",
    "        if len(resAttr) == 0:\n",
    "            resAttr_int = 5 if attr == 'VOLTAGE_CLASS' else 3\n",
    "        elif resAttr[0] is None:\n",
    "            resAttr_int = 4\n",
    "        else:\n",
    "            resAttr_int = float(resAttr[0])\n",
    "            if attr == 'VOLTAGE_CLASS':\n",
    "                resAttr_int = 0.5 if resAttr_int == 15 else resAttr_int\n",
    "                resAttr_int = 5 if resAttr_int == 16 else resAttr_int\n",
    "        attrRes.append(resAttr_int)\n",
    "\n",
    "    return np.array(attrRes, dtype=np.float64)"
   ]
  },
  {
   "cell_type": "code",
   "execution_count": 26,
   "metadata": {},
   "outputs": [
    {
     "name": "stderr",
     "output_type": "stream",
     "text": [
      "100%|██████████| 18083/18083 [03:43<00:00, 81.03it/s] \n"
     ]
    }
   ],
   "source": [
    "# 获取路由调度等级\n",
    "def get_routes_DSP(routeLimitDict, stnInfPd):\n",
    "    routeDSPDict = {}\n",
    "    b_keyList = list(routeLimitDict.keys())\n",
    "    for b_idx in tqdm(range(len(b_keyList))):\n",
    "        b_id = b_keyList[b_idx]\n",
    "        routes = routeLimitDict[b_id]\n",
    "        routesDSP = []\n",
    "        for route in routes:\n",
    "            rDSPs = get_route_attr(route, stnInfPd, 'VOLTAGE_CLASS')\n",
    "            routesDSP.append(rDSPs)\n",
    "        routeDSPDict[b_id] = routesDSP\n",
    "\n",
    "    return routeDSPDict \n",
    "\n",
    "routeDSPDict = get_routes_DSP(routeLimitDict, stnInfPd)\n"
   ]
  },
  {
   "cell_type": "code",
   "execution_count": null,
   "metadata": {},
   "outputs": [],
   "source": [
    "routeDSPDict"
   ]
  },
  {
   "cell_type": "code",
   "execution_count": 22,
   "metadata": {},
   "outputs": [
    {
     "name": "stderr",
     "output_type": "stream",
     "text": [
      "100%|██████████| 18083/18083 [04:29<00:00, 66.98it/s] \n"
     ]
    }
   ],
   "source": [
    "# 获取站点电压等级\n",
    "def get_route_Vol(routeLimitDict, stnInfPd):\n",
    "    routeVolDict = {}\n",
    "    b_keyList = list(routeLimitDict.keys())\n",
    "    for b_idx in tqdm(range(len(b_keyList))):\n",
    "        b_id = b_keyList[b_idx]\n",
    "        routes = routeLimitDict[b_id]\n",
    "        routesVol = []\n",
    "        for route in routes:\n",
    "            rVol = get_route_attr(route, stnInfPd, 'DSP_LEVEL')\n",
    "            routesVol.append(rVol)\n",
    "            \n",
    "        routeVolDict[b_id] = routesVol\n",
    "\n",
    "    return routeVolDict\n",
    "\n",
    "routeVolDict = get_route_Vol(routeLimitDict, stnInfPd)\n"
   ]
  },
  {
   "cell_type": "code",
   "execution_count": null,
   "metadata": {},
   "outputs": [],
   "source": [
    "routeVolDict"
   ]
  },
  {
   "cell_type": "markdown",
   "metadata": {},
   "source": [
    "# 4. 路由优选"
   ]
  },
  {
   "cell_type": "markdown",
   "metadata": {},
   "source": [
    "## 4.1 路由优选数据计算"
   ]
  },
  {
   "cell_type": "code",
   "execution_count": 24,
   "metadata": {},
   "outputs": [],
   "source": [
    "def route_optim(routeStepsDict, routeDSPDict, routeVolDict):\n",
    "    ## 直接调用模糊层次分析模块\n",
    "    routeScoreDict = {}\n",
    "    b_key = routeStepsDict.keys()\n",
    "    for b_id in b_key:\n",
    "        DSPList, VolList = routeDSPDict[b_id], routeVolDict[b_id]\n",
    "        DSPm = np.array([i.mean() for i in DSPList])\n",
    "        Volm = np.array([i.mean() for i in VolList])\n",
    "        Steps = routeStepsDict[b_id]\n",
    "        \n",
    "        Weight = read_yaml_to_dict('./conf/factor_weight.yml')\n",
    "        scores = DSPm * Weight['DSP_LEVEL'] + Volm * Weight['VOLTAGE_CLASS'] + Steps * Weight['STEP']\n",
    "\n",
    "        routeScoreDict[b_id] = scores\n",
    "        \n",
    "\n",
    "    return routeScoreDict\n",
    "\n",
    "routeScoreDict = route_optim(routeStepsDict, routeDSPDict, routeVolDict)"
   ]
  },
  {
   "cell_type": "code",
   "execution_count": 25,
   "metadata": {},
   "outputs": [],
   "source": [
    "# 输出最佳路由\n",
    "def get_optimum_route(routeScoreDict, routeLimitDict):\n",
    "    optRoutes = {}\n",
    "    for b_id in routeScoreDict:\n",
    "        routeLimit = routeLimitDict[b_id]\n",
    "        routeScore = routeScoreDict[b_id]\n",
    "\n",
    "        if len(routeLimit) > 0:\n",
    "            minIdx = np.argmin(routeScore)\n",
    "            optRoute = routeLimit[minIdx]\n",
    "        else:\n",
    "            optRoute = None\n",
    "\n",
    "        optRoutes[b_id] = optRoute\n",
    "\n",
    "    return optRoutes\n",
    "\n",
    "\n",
    "optRoutes = get_optimum_route(routeScoreDict, routeLimitDict)"
   ]
  },
  {
   "cell_type": "markdown",
   "metadata": {},
   "source": [
    "# -1.测试"
   ]
  },
  {
   "cell_type": "code",
   "execution_count": 83,
   "metadata": {},
   "outputs": [
    {
     "data": {
      "text/plain": [
       "7878"
      ]
     },
     "execution_count": 83,
     "metadata": {},
     "output_type": "execute_result"
    }
   ],
   "source": [
    "empty_bid = []\n",
    "num_bid = []\n",
    "for b_id, routes in routeLimitDict.items():\n",
    "    num_bid.append(len(routes))\n",
    "    if routes.__len__() == 0:\n",
    "        empty_bid.append(b_id)\n",
    "empty_bid.__len__()"
   ]
  },
  {
   "cell_type": "code",
   "execution_count": 81,
   "metadata": {},
   "outputs": [
    {
     "name": "stdout",
     "output_type": "stream",
     "text": [
      "Scan pcnBussInf:\n",
      "\t ERRO_LEN:1368\n",
      "\tERRO_TYPE:0\n"
     ]
    }
   ],
   "source": [
    "e_len_num, e_same_type = 0, 0\n",
    "e_len_d, e_same_d ={}, {}\n",
    "for b_id, d in pcnBussInf.items():\n",
    "    c_type = d['C_TYPE']\n",
    "    cList = d['CHANNELS']\n",
    "    if len(cList) != len(c_type):\n",
    "        e_len_num += 1\n",
    "        e_len_d[b_id] = d\n",
    "    for i in range(len(c_type)):\n",
    "        if i == 0:\n",
    "            continue\n",
    "        else:\n",
    "            if c_type[i-1] != c_type[i-1]:\n",
    "                e_same_type += 1\n",
    "                e_same_d[b_id] = d\n",
    "                \n",
    "\n",
    "\n",
    "print(\"Scan pcnBussInf:\\n\\t ERRO_LEN:{}\\n\\tERRO_TYPE:{}\".format(e_len_num, e_same_type))\n"
   ]
  },
  {
   "cell_type": "code",
   "execution_count": 99,
   "metadata": {},
   "outputs": [
    {
     "data": {
      "text/plain": [
       "{'A_STATION_NAME': '龙岗电厂',\n",
       " 'Z_STATION_NAME': '500kV花都变',\n",
       " 'CHANNELS': ['0CFBF67E-4699-4808-A4A6-81FC829CF4CD-00664',\n",
       "  'CD996599-B045-43B0-9785-F2B51C807217-43869',\n",
       "  '0E0BBF9D-2FA1-40AF-949D-7D046035E6DF-20996'],\n",
       " 'FAC_LABLE': '华为SDH',\n",
       " 'B_TYPE': '3',\n",
       " 'C_TYPE': '1'}"
      ]
     },
     "execution_count": 99,
     "metadata": {},
     "output_type": "execute_result"
    }
   ],
   "source": [
    "pcnBussInf['F07A0A01-9FA5-4D65-AE19-ADA4FF7219C6-33276']"
   ]
  },
  {
   "cell_type": "code",
   "execution_count": 18,
   "metadata": {},
   "outputs": [
    {
     "name": "stdout",
     "output_type": "stream",
     "text": [
      "**************** PCN DataBase INF ****************\n",
      "\t* USER: PCN_TEST\n",
      "\t* SID: 172.17.0.2:1521/LHR11G\n",
      "************ Successfully connected! *************\n"
     ]
    }
   ],
   "source": [
    "pcnDBInf={\n",
    "        'USER': 'PCN_TEST',\n",
    "        'PASS': '784427618',\n",
    "        'SID': '172.17.0.2:1521/LHR11G'\n",
    "    } \n",
    "print(\" PCN DataBase INF \".center(50, '*'))\n",
    "for k in pcnDBInf.keys():\n",
    "    if k != 'PASS':\n",
    "        print(\"\\t* {}: {}\".format(k, pcnDBInf[k]))\n",
    "print(\" Successfully connected! \".center(50, '*'))\n"
   ]
  },
  {
   "cell_type": "code",
   "execution_count": 80,
   "metadata": {},
   "outputs": [],
   "source": [
    "import yaml\n",
    "\n",
    "def save_dict_to_yaml(dict_value: dict, save_path: str):\n",
    "    \"\"\"dict保存为yaml\"\"\"\n",
    "    with open(save_path, 'w') as file:\n",
    "        file.write(yaml.dump(dict_value, allow_unicode=True))\n",
    "\n",
    "\n",
    "def read_yaml_to_dict(yaml_path: str, ):\n",
    "    with open(yaml_path) as file:\n",
    "        dict_value = yaml.load(file.read(), Loader=yaml.FullLoader)\n",
    "        return dict_value\n",
    "\n",
    "my_config_dict = {\n",
    "        \"mysql\": {\n",
    "            \"host\": \"127.0.0.1\",\n",
    "            \"tables\": [\"table_1\", \"table_2\"],\n",
    "        },\n",
    "        \"redis\": {\n",
    "            \"host\": \"127.0.0.1\",\n",
    "            \"db\": 3,\n",
    "        }\n",
    "    }\n",
    "\n",
    "TypeRule={\n",
    "    'BTYPE':\n",
    "    {\n",
    "        '1':['1', '2', '10', '18'],\n",
    "        '2':['1', '2', '10', '18'],\n",
    "        '10': ['1', '2', '10', '18'],\n",
    "        '18': ['1', '2', '10', '18'],\n",
    "        '3':['3', '7', '8'],\n",
    "        '7':['3', '7', '8'],\n",
    "        '8':['3', '7', '8'],\n",
    "        '4':['4', '6', '12', '16', '19'],\n",
    "        '6':['4', '6', '12', '16', '19'],\n",
    "        '12':['4', '6', '12', '16', '19'],\n",
    "        '16':['4', '6', '12', '16', '19'],\n",
    "        '19':['4', '6', '12', '16', '19'],\n",
    "        '5':['5', '11'],\n",
    "        '11':['5', '11'],\n",
    "        '7':['7', '9'],\n",
    "        '9':['7', '9'],\n",
    "        '14':[str(i) for i in range(1,20)],\n",
    "        '13':[str(i) for i in range(1,20)],\n",
    "        '15':[str(i) for i in range(1,20)],\n",
    "        '17':[str(i) for i in range(1,20)],\n",
    "    },\n",
    "    'CTYPE': dict((str(num), [str(num), '-1']) for num in range(1, 7))\n",
    "}\n",
    "TypeRule['CTYPE']['-1']= [str(i) for i in range(1,7)]\n",
    "    \n",
    "save_dict_to_yaml(TypeRule, \"limit_rule.yml\")\n",
    "config_value = read_yaml_to_dict(\"limit_rule.yml\")\n"
   ]
  },
  {
   "cell_type": "code",
   "execution_count": 28,
   "metadata": {},
   "outputs": [],
   "source": [
    "Weight={\n",
    "    'STEP': 0.5,\n",
    "    'DSP_LEVEL': 0.2,\n",
    "    'VOLTAGE_CLASS': 0.3\n",
    "}\n",
    "save_dict_to_yaml(Weight, \"./conf/factor_weight.yml\")\n",
    "testW = read_yaml_to_dict('./conf/factor_weight.yml')"
   ]
  },
  {
   "cell_type": "code",
   "execution_count": 29,
   "metadata": {},
   "outputs": [
    {
     "data": {
      "text/plain": [
       "{'PASS': '784427618', 'SID': 'localhost:1521/LHR11G', 'USER': 'PCN_TEST'}"
      ]
     },
     "execution_count": 29,
     "metadata": {},
     "output_type": "execute_result"
    }
   ],
   "source": [
    "pcnDBInf={\n",
    "    'USER': 'PCN_TEST',\n",
    "    'PASS': '784427618',\n",
    "    'SID': 'localhost:1521/LHR11G'\n",
    "}\n",
    "save_dict_to_yaml(pcnDBInf, \"./conf/pcnDB_inf.yml\")\n",
    "testW = read_yaml_to_dict('./conf/pcnDB_inf.yml')\n",
    "testW"
   ]
  },
  {
   "cell_type": "code",
   "execution_count": 39,
   "metadata": {},
   "outputs": [
    {
     "data": {
      "text/plain": [
       "1"
      ]
     },
     "execution_count": 39,
     "metadata": {},
     "output_type": "execute_result"
    }
   ],
   "source": [
    "test = np.array([2,1,3,4,5,6,6])\n",
    "np.argmin(test)"
   ]
  },
  {
   "cell_type": "code",
   "execution_count": null,
   "metadata": {},
   "outputs": [],
   "source": [
    "from utools.pickle_io import *\n",
    "load_obj('routeScoreDict')"
   ]
  }
 ],
 "metadata": {
  "interpreter": {
   "hash": "571caa6d50c595aee34f36e14b98d15fa72bd6495a8f71d912e6be197a438b94"
  },
  "kernelspec": {
   "display_name": "Python 3.9.0 ('pcn_route')",
   "language": "python",
   "name": "python3"
  },
  "language_info": {
   "codemirror_mode": {
    "name": "ipython",
    "version": 3
   },
   "file_extension": ".py",
   "mimetype": "text/x-python",
   "name": "python",
   "nbconvert_exporter": "python",
   "pygments_lexer": "ipython3",
   "version": "3.9.0"
  },
  "orig_nbformat": 4
 },
 "nbformat": 4,
 "nbformat_minor": 2
}

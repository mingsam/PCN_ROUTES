{
 "cells": [
  {
   "cell_type": "markdown",
   "metadata": {},
   "source": [
    "# 0. 引入依赖包\n",
    "注意 cx_Oracle裤需要动态依赖"
   ]
  },
  {
   "cell_type": "code",
   "execution_count": 5,
   "metadata": {},
   "outputs": [
    {
     "data": {
      "text/plain": [
       "'/home/wzk/Code/PCN_ROUTES'"
      ]
     },
     "execution_count": 5,
     "metadata": {},
     "output_type": "execute_result"
    }
   ],
   "source": [
    "import pandas as pd\n",
    "import networkx as nx\n",
    "import numpy as np\n",
    "import os\n",
    "import re\n",
    "from db_con.pcn_oracle_data import PCNDB\n",
    "from tqdm import tqdm\n",
    "os.getcwd()"
   ]
  },
  {
   "cell_type": "code",
   "execution_count": 6,
   "metadata": {},
   "outputs": [
    {
     "data": {
      "text/plain": [
       "':/usr/local/cuda/lib64:/home/wzk/Oracle/instantclient_19_15'"
      ]
     },
     "execution_count": 6,
     "metadata": {},
     "output_type": "execute_result"
    }
   ],
   "source": [
    "os.environ['LD_LIBRARY_PATH']"
   ]
  },
  {
   "cell_type": "markdown",
   "metadata": {},
   "source": [
    "# 1. 连接数据库"
   ]
  },
  {
   "cell_type": "code",
   "execution_count": 7,
   "metadata": {},
   "outputs": [],
   "source": [
    "pcnTestDB = PCNDB('PCN_TEST','784427618', '10.112.199.111:1521/LHR11G')\n",
    "bus_inf = pcnTestDB.get_all_businesses()\n",
    "cha_inf = pcnTestDB.get_all_channels()"
   ]
  },
  {
   "cell_type": "markdown",
   "metadata": {},
   "source": [
    "# 2. 获取有效通路\n",
    "数据处理"
   ]
  },
  {
   "cell_type": "code",
   "execution_count": 8,
   "metadata": {},
   "outputs": [],
   "source": [
    "def get_stn_name(stn_id, pcnDB, stnDict):\n",
    "    del_full_name = lambda x:x[0].split('/')[-1] if x[0] != None else None\n",
    "    if stn_id not in stnDict.keys():\n",
    "        stn_dict = pcnDB.get_station_inf(stn_id, tCols=['FULL_NAME'])\n",
    "        stn_name = del_full_name(stn_dict['FULL_NAME']) if stn_dict['FULL_NAME'] != None else None\n",
    "        stnDict[stn_id] = stn_name\n",
    "    else:\n",
    "        stn_name = stnDict[stn_id]\n",
    "    \n",
    "    return stn_name, stnDict\n",
    "\n",
    "\n",
    "def ch_channel_name(channelInf, pcnDB):\n",
    "    assert 'A_STATION' in channelInf.keys() and 'Z_STATION' in channelInf.keys()\n",
    "    stnList_a = channelInf['A_STATION']\n",
    "    stnList_z = channelInf['Z_STATION']\n",
    "\n",
    "    stnList_a_name , stnList_z_name = [], []\n",
    "    resDict = {}\n",
    "\n",
    "    for idx, (s_a, s_z) in enumerate(zip(stnList_a, stnList_z)):\n",
    "        s_a_name, resDict = get_stn_name(s_a, pcnDB, resDict)\n",
    "        s_z_name, resDict = get_stn_name(s_z, pcnDB, resDict)\n",
    "\n",
    "        stnList_a_name.append(s_a_name)\n",
    "        stnList_z_name.append(s_z_name)\n",
    "\n",
    "    channelInf['A_STATION_NAME'] = stnList_a_name\n",
    "    channelInf['Z_STATION_NAME'] = stnList_z_name\n",
    "\n",
    "    return channelInf, resDict\n",
    "\n",
    "\n",
    "def del_channel_inf(channelInf, pcnDB):\n",
    "    channelInf, stnDict = ch_channel_name(channelInf, pcnDB)\n",
    "    stnList_a = channelInf['A_STATION_NAME']\n",
    "    stnList_z = channelInf['Z_STATION_NAME']\n",
    "\n",
    "    assert len(stnList_a) == len(stnList_z)\n",
    "    idx = 0\n",
    "    while idx < len(stnList_a):\n",
    "        s_a = stnList_a[idx]\n",
    "        s_z = stnList_z[idx]\n",
    "        if s_a is None or s_z is None:\n",
    "            for k in channelInf.keys():\n",
    "                channelInf[k].pop(idx)\n",
    "        elif s_a == s_z:\n",
    "            for k in channelInf.keys():\n",
    "                channelInf[k].pop(idx)\n",
    "        else:\n",
    "            idx += 1\n",
    "\n",
    "    channelInfPd = pd.DataFrame(data=channelInf)\n",
    "    return channelInfPd, stnDict\n",
    "\n",
    "\n",
    "def con_business_inf(b_id, pcnDB, stnDict):\n",
    "    busInfDict = pcnDB.get_business_inf(b_id)\n",
    "    stnID_a, stnID_z = busInfDict['A_SITE_ID'][0], busInfDict['Z_SITE_ID'][0]\n",
    "\n",
    "    stnName_a = get_stn_name(stnID_a, pcnDB, stnDict)\n",
    "    stnName_z = get_stn_name(stnID_z, pcnDB, stnDict)\n",
    "    busInfDict['A_STATION_NAME'] = stnName_a\n",
    "    busInfDict['Z_STATION_NAME'] = stnName_z\n",
    "\n",
    "    return busInfDict\n",
    "\n",
    "\n",
    "def con_business_stn_inf(b_id, pcnDB, stnDict):\n",
    "    resDitc={}\n",
    "    busInfDict = pcnDB.get_business_inf(b_id)\n",
    "    stnID_a, stnID_z = busInfDict['A_SITE_ID'][0], busInfDict['Z_SITE_ID'][0]\n",
    "\n",
    "    stnName_a,_ = get_stn_name(stnID_a, pcnDB, stnDict)\n",
    "    stnName_z,_ = get_stn_name(stnID_z, pcnDB, stnDict)\n",
    "    resDitc['A_STATION_NAME'] = stnName_a\n",
    "    resDitc['Z_STATION_NAME'] = stnName_z\n",
    "\n",
    "    return resDitc\n",
    "\n",
    " \n",
    "def del_business_inf(businessInf, pcnDB, stnDict=None):\n",
    "    assert 'BUSINESS_ID' in businessInf.keys() and 'CHANNEL_ID' in businessInf\n",
    "    busDict = {}\n",
    "    for idx, busID in enumerate(businessInf['BUSINESS_ID']):\n",
    "        if busID not in busDict.keys():\n",
    "            busDict[busID] = [businessInf['CHANNEL_ID'][idx]]\n",
    "        else:\n",
    "            busDict[busID].append(businessInf['CHANNEL_ID'][idx])\n",
    "\n",
    "    businessInfDict ={}\n",
    "    for idx, b_id in enumerate(list(busDict.keys())):\n",
    "        busInfDict = con_business_stn_inf(b_id, pcnDB, stnDict)\n",
    "        businessInfDict[b_id] = busInfDict\n",
    "\n",
    "    return busDict, businessInfDict\n",
    "\n",
    "\n",
    "def generate_pcnMap(channelInf):\n",
    "    pcnMap = nx.Graph()\n",
    "    stnList_a = channelInf['A_STATION_NAME']\n",
    "    stnList_z = channelInf['Z_STATION_NAME']\n",
    "    channelIdList = channelInf['OBJ_ID']\n",
    "\n",
    "    edgeDict = {}\n",
    "    for idx, (c_id, s_a, s_z) in enumerate(zip(channelIdList, stnList_a, stnList_z)):\n",
    "        edgeStr = '{}-{}'.format(s_a, s_z)\n",
    "        edgeStrRe = '{}-{}'.format(s_z, s_a)\n",
    "        if edgeStr in edgeDict.keys():\n",
    "            edgeDict[edgeStr].append(c_id)\n",
    "        elif edgeStrRe in edgeDict.keys():\n",
    "            edgeDict[edgeStrRe].append(c_id)\n",
    "        else:\n",
    "            pcnMap.add_edge(s_a, s_z)\n",
    "            edgeDict[edgeStr] = [c_id]\n",
    "\n",
    "    for e in pcnMap.edges.keys():\n",
    "        edgekey = '{}-{}'.format(e[0], e[1])\n",
    "        edgekeyRe = '{}-{}'.format(e[1], e[0])\n",
    "        if edgekey in edgeDict.keys():\n",
    "            pcnMap.edges[e]['channel_id'] = edgeDict[edgekey]\n",
    "        else:\n",
    "            pcnMap.edges[e]['channel_id'] = edgeDict[edgekeyRe]\n",
    "\n",
    "\n",
    "    return pcnMap\n",
    "\n",
    "\n",
    "def get_circuitous_bus(businessInfDict, pcnMap):\n",
    "    busDelDict={}\n",
    "    for idx,b_id in enumerate(businessInfDict.keys()):\n",
    "        stnName_a = businessInfDict[b_id]['A_STATION_NAME']\n",
    "        stnName_z = businessInfDict[b_id]['Z_STATION_NAME']\n",
    "\n",
    "        if stnName_a not in pcnMap.nodes.keys() or stnName_z not in pcnMap.nodes.keys():\n",
    "            continue\n",
    "        elif stnName_a is None or stnName_z is None:\n",
    "            continue\n",
    "        elif stnName_a == stnName_z:\n",
    "            continue\n",
    "        else:\n",
    "            busDelDict[b_id] = businessInfDict[b_id]\n",
    "\n",
    "    return busDelDict\n",
    "\n",
    "def get_circuitous_channel(busDelDict, busDict):\n",
    "    chaDelDict={}\n",
    "    for b_id in busDelDict.keys():\n",
    "        if b_id in busDict.keys():\n",
    "            chaDelDict[b_id] = busDict[b_id]\n",
    "    \n",
    "    return chaDelDict\n",
    "\n",
    "def get_circuitous_inf(busInfDict, businessInfDict, pcnMap):\n",
    "    pcnBussInf={}\n",
    "    for _,b_id in enumerate(businessInfDict.keys()):\n",
    "        stnName_a = businessInfDict[b_id]['A_STATION_NAME']\n",
    "        stnName_z = businessInfDict[b_id]['Z_STATION_NAME']\n",
    "\n",
    "        if stnName_a not in pcnMap.nodes.keys() or stnName_z not in pcnMap.nodes.keys():\n",
    "            continue\n",
    "        elif stnName_a is None or stnName_z is None:\n",
    "            continue\n",
    "        elif stnName_a == stnName_z:\n",
    "            continue\n",
    "        else:\n",
    "            pcnBussInf[b_id] = businessInfDict[b_id]\n",
    "    \n",
    "    for b_id in pcnBussInf.keys():\n",
    "        if b_id in busInfDict.keys():\n",
    "            pcnBussInf[b_id]['CHANNELS'] = busInfDict[b_id]\n",
    "    \n",
    "    return pcnBussInf\n",
    "\n"
   ]
  },
  {
   "cell_type": "code",
   "execution_count": 9,
   "metadata": {},
   "outputs": [],
   "source": [
    "channelInfPd, stnDict = del_channel_inf(cha_inf, pcnTestDB)\n",
    "busInfDict, businessInfDict = del_business_inf(bus_inf, pcnTestDB, stnDict)\n",
    "pcnMap = generate_pcnMap(channelInfPd)\n",
    "# busDelDict = get_circuitous_bus(businessInfDict, pcnMap)\n",
    "# chaDelDict = get_circuitous_channel(busDelDict, busInfDict)\n",
    "pcnBussInf =  get_circuitous_inf(busInfDict, businessInfDict, pcnMap)"
   ]
  },
  {
   "cell_type": "markdown",
   "metadata": {},
   "source": [
    "## 2.1 获取所有可用通路\n",
    "利用nx.all_simple_paths"
   ]
  },
  {
   "cell_type": "code",
   "execution_count": 10,
   "metadata": {},
   "outputs": [
    {
     "name": "stderr",
     "output_type": "stream",
     "text": [
      "100%|██████████| 18083/18083 [00:36<00:00, 494.87it/s]\n"
     ]
    }
   ],
   "source": [
    "def get_access_routes(pcnBussInf, pcnMap, cutoff=3):\n",
    "    resDict={}\n",
    "    routeDict = {}\n",
    "    busIDList = list(pcnBussInf.keys())\n",
    "    for idx in tqdm(range(len(pcnBussInf))):\n",
    "        b_id = busIDList[idx]\n",
    "        stn_a, stn_z = pcnBussInf[b_id]['A_STATION_NAME'], pcnBussInf[b_id]['Z_STATION_NAME']\n",
    "        resKey = \"{}-{}\".format(stn_a, stn_z)\n",
    "        resKey1 = \"{}-{}\".format(stn_z, stn_a)\n",
    "        if resKey in resDict.keys():\n",
    "            routeDict[b_id] = resDict[resKey]\n",
    "        elif resKey1 in resDict.keys():\n",
    "            routeDict[b_id] = resDict[resKey1]\n",
    "        else:\n",
    "            nx_allRoutes = nx.all_simple_paths(pcnMap,source=stn_a,target=stn_z, cutoff=cutoff)\n",
    "            routes = list(nx_allRoutes)\n",
    "            routeDict[b_id] = routes\n",
    "            resDict[resKey] = routes\n",
    "\n",
    "    return routeDict\n",
    "    \n",
    "routeDict = get_access_routes(pcnBussInf, pcnMap)"
   ]
  },
  {
   "cell_type": "markdown",
   "metadata": {},
   "source": [
    "# 3.路由优选"
   ]
  },
  {
   "cell_type": "markdown",
   "metadata": {},
   "source": [
    "## 3.1 厂商筛选"
   ]
  },
  {
   "cell_type": "code",
   "execution_count": 11,
   "metadata": {},
   "outputs": [],
   "source": [
    "def del_business_fac(chaList, pcnDB):\n",
    "    assert isinstance(chaList, list)\n",
    "    get_value = lambda x: x[\"NAME\"][0] if 'NAME' in x.keys() else None\n",
    "\n",
    "    facList = [get_value(pcnDB.get_fac_inf(c_id)) for c_id in chaList]\n",
    "    facList = list(map(_del_fac_lable, facList))\n",
    "\n",
    "    conDict = {}\n",
    "    maxNum, maxName = 0, ''\n",
    "    for f in facList:\n",
    "        if f not in conDict.keys():\n",
    "            conDict[f] = 1\n",
    "        else:\n",
    "            conDict[f] += 1\n",
    "        if conDict[f] > maxNum:\n",
    "            maxNum = conDict[f]\n",
    "            maxName = f\n",
    "    return maxName\n",
    "    \n",
    "def _del_fac_lable(facVal):\n",
    "    if  not isinstance(facVal, str):\n",
    "        return 'Others'\n",
    "    key_words = ['华为', '依赛', '烽火', '马可尼', 'ECI北京', '中兴', '北电', '赛特']\n",
    "    re_str = '|'.join(key_words)\n",
    "    \n",
    "    re_op_matchKeys = lambda x: [re.search(re_str, x), re.search('SDH', x)]\n",
    "    re_op_delNone = lambda x: x.group(0) if x is not None else ''\n",
    "\n",
    "    facValList = re_op_matchKeys(facVal)\n",
    "    res_val = ''.join([re_op_delNone(i) for i in facValList])\n",
    "    res_val = res_val if len(res_val) != 0 else facVal\n",
    "\n",
    "    return res_val\n",
    "\n",
    "def get_fac_inf(pcnBussInf, pcnDB):\n",
    "    for _, busInfDict in pcnBussInf.items():\n",
    "        fac = del_business_fac(busInfDict['CHANNELS'], pcnDB)\n",
    "        busInfDict['FAC_LABLE'] = fac\n",
    "    \n",
    "    return pcnBussInf\n",
    "    "
   ]
  },
  {
   "cell_type": "code",
   "execution_count": 12,
   "metadata": {},
   "outputs": [],
   "source": [
    "pcnBussInf = get_fac_inf(pcnBussInf, pcnTestDB)"
   ]
  },
  {
   "cell_type": "code",
   "execution_count": 13,
   "metadata": {},
   "outputs": [
    {
     "data": {
      "text/plain": [
       "'华为SDH'"
      ]
     },
     "execution_count": 13,
     "metadata": {},
     "output_type": "execute_result"
    }
   ],
   "source": [
    "del_business_fac(pcnBussInf['648C6BD8-20AE-4B1B-88C6-F5064C708F28-77700']['CHANNELS'], pcnTestDB)"
   ]
  },
  {
   "cell_type": "markdown",
   "metadata": {},
   "source": [
    "## 3.2 获取通道类型和业务类型"
   ]
  },
  {
   "cell_type": "code",
   "execution_count": 14,
   "metadata": {},
   "outputs": [],
   "source": [
    "def get_business_type(pcnBussInf, pcnDB):\n",
    "    for b_id, bussInfDict in pcnBussInf.items():\n",
    "        b_type = pcnDB.get_buss_type(b_id)\n",
    "        bussInfDict[\"B_TYPE\"] = b_type['BUZ_TYPE'] if b_type['BUZ_TYPE'] != None else -1\n",
    "\n",
    "    return pcnBussInf\n",
    "    "
   ]
  },
  {
   "cell_type": "code",
   "execution_count": 15,
   "metadata": {},
   "outputs": [],
   "source": [
    "def _del_cType(cList, channelInfPd):\n",
    "    cTpyeList = []\n",
    "    for cha in cList:\n",
    "        res = channelInfPd.loc[channelInfPd['OBJ_ID'] == cha, \"CHANNEL_TYPE\"]\n",
    "        cTpyeList.extend(res.to_list())\n",
    "    return cTpyeList\n",
    "\n",
    "def get_channel_type(pcnBussInf, channelInfPd):\n",
    "    for b_id, bussInfDict in pcnBussInf.items():\n",
    "        chaList = bussInfDict['CHANNELS']\n",
    "        cTpyeList = _del_cType(chaList, channelInfPd)\n",
    "        cType = cTpyeList[0] if len(cTpyeList) != 0 else -1\n",
    "        bussInfDict['C_TYPE'] = cType\n",
    "\n",
    "    return pcnBussInf\n",
    "    "
   ]
  },
  {
   "cell_type": "code",
   "execution_count": 16,
   "metadata": {},
   "outputs": [],
   "source": [
    "pcnBussInf = get_business_type(pcnBussInf, pcnTestDB)\n",
    "pcnBussInf = get_channel_type(pcnBussInf, channelInfPd)"
   ]
  },
  {
   "cell_type": "markdown",
   "metadata": {},
   "source": [
    "# -1.测试"
   ]
  },
  {
   "cell_type": "code",
   "execution_count": 4,
   "metadata": {},
   "outputs": [
    {
     "data": {
      "text/plain": [
       "{'BUZ_TYPE': [None]}"
      ]
     },
     "execution_count": 4,
     "metadata": {},
     "output_type": "execute_result"
    }
   ],
   "source": [
    "pcnTestDB.get_buss_type(b_id='11')"
   ]
  },
  {
   "cell_type": "code",
   "execution_count": 81,
   "metadata": {},
   "outputs": [
    {
     "name": "stdout",
     "output_type": "stream",
     "text": [
      "Scan pcnBussInf:\n",
      "\t ERRO_LEN:1368\n",
      "\tERRO_TYPE:0\n"
     ]
    }
   ],
   "source": [
    "e_len_num, e_same_type = 0, 0\n",
    "e_len_d, e_same_d ={}, {}\n",
    "for b_id, d in pcnBussInf.items():\n",
    "    c_type = d['C_TYPE']\n",
    "    cList = d['CHANNELS']\n",
    "    if len(cList) != len(c_type):\n",
    "        e_len_num += 1\n",
    "        e_len_d[b_id] = d\n",
    "    for i in range(len(c_type)):\n",
    "        if i == 0:\n",
    "            continue\n",
    "        else:\n",
    "            if c_type[i-1] != c_type[i-1]:\n",
    "                e_same_type += 1\n",
    "                e_same_d[b_id] = d\n",
    "                \n",
    "\n",
    "\n",
    "print(\"Scan pcnBussInf:\\n\\t ERRO_LEN:{}\\n\\tERRO_TYPE:{}\".format(e_len_num, e_same_type))\n"
   ]
  },
  {
   "cell_type": "code",
   "execution_count": null,
   "metadata": {},
   "outputs": [],
   "source": [
    "e_same_d"
   ]
  },
  {
   "cell_type": "code",
   "execution_count": 10,
   "metadata": {},
   "outputs": [],
   "source": [
    "c, v = pcnTestDB._exec_sql(\"SELECT * FROM T_SPC_SITE WHERE OBJ_ID = 'F07A0A01-9FA5-4D65-AE19-ADA4FF7219C6-00391'\")"
   ]
  },
  {
   "cell_type": "code",
   "execution_count": 18,
   "metadata": {},
   "outputs": [
    {
     "name": "stdout",
     "output_type": "stream",
     "text": [
      "**************** PCN DataBase INF ****************\n",
      "\t* USER: PCN_TEST\n",
      "\t* SID: 172.17.0.2:1521/LHR11G\n",
      "************ Successfully connected! *************\n"
     ]
    }
   ],
   "source": [
    "pcnDBInf={\n",
    "        'USER': 'PCN_TEST',\n",
    "        'PASS': '784427618',\n",
    "        'SID': '172.17.0.2:1521/LHR11G'\n",
    "    } \n",
    "print(\" PCN DataBase INF \".center(50, '*'))\n",
    "for k in pcnDBInf.keys():\n",
    "    if k != 'PASS':\n",
    "        print(\"\\t* {}: {}\".format(k, pcnDBInf[k]))\n",
    "print(\" Successfully connected! \".center(50, '*'))\n"
   ]
  },
  {
   "cell_type": "code",
   "execution_count": null,
   "metadata": {},
   "outputs": [],
   "source": []
  }
 ],
 "metadata": {
  "interpreter": {
   "hash": "571caa6d50c595aee34f36e14b98d15fa72bd6495a8f71d912e6be197a438b94"
  },
  "kernelspec": {
   "display_name": "Python 3.9.0 ('pcn_route')",
   "language": "python",
   "name": "python3"
  },
  "language_info": {
   "codemirror_mode": {
    "name": "ipython",
    "version": 3
   },
   "file_extension": ".py",
   "mimetype": "text/x-python",
   "name": "python",
   "nbconvert_exporter": "python",
   "pygments_lexer": "ipython3",
   "version": "3.9.0"
  },
  "orig_nbformat": 4
 },
 "nbformat": 4,
 "nbformat_minor": 2
}
